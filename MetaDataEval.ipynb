{
 "cells": [
  {
   "cell_type": "markdown",
   "metadata": {},
   "source": [
    "## Evaluation of BOSS Spectra Meta Data"
   ]
  },
  {
   "cell_type": "markdown",
   "metadata": {},
   "source": [
    "This notebook takes a look at the distribution of metadata and can be used to cross check the metadata compiled in boss_meta_rich.pkl created using boss_meta_rich.py"
   ]
  },
  {
   "cell_type": "code",
   "execution_count": 82,
   "metadata": {
    "collapsed": true
   },
   "outputs": [],
   "source": [
    "%matplotlib inline\n",
    "import pickle \n",
    "import pandas as pd\n",
    "import numpy as np\n",
    "import matplotlib.pyplot as plt\n",
    "from astropy.coordinates import EarthLocation\n",
    "from astropy.time import Time"
   ]
  },
  {
   "cell_type": "code",
   "execution_count": 8,
   "metadata": {
    "collapsed": false
   },
   "outputs": [],
   "source": [
    "meta_rich_file = 'boss_rich_meta.pkl'\n",
    "meta_rich = pickle.load(open(meta_rich_file, 'rb'))"
   ]
  },
  {
   "cell_type": "code",
   "execution_count": 18,
   "metadata": {
    "collapsed": false
   },
   "outputs": [],
   "source": [
    "meta_rich_data = []\n",
    "for plate in meta_rich:\n",
    "    for line in plate:\n",
    "        meta_rich_data.append(line)"
   ]
  },
  {
   "cell_type": "code",
   "execution_count": 19,
   "metadata": {
    "collapsed": false
   },
   "outputs": [],
   "source": [
    "meta_df = pd.DataFrame(meta_rich_data, columns = ['PLATE','image','TAI_beg','TAI_end','RA','DEC','Airmass','Alt','Exptime','moon_lat','moon_lon', 'sun_lat', 'sun_lon', 'moon_alt', 'moon_az', 'sun_alt', 'sun_az', 'days_to_full', 'ecl_lat', 'ecl_lon', 'gal_lat', 'gal_lon', 'az', 'fli', 'solar_flux'])"
   ]
  },
  {
   "cell_type": "code",
   "execution_count": 41,
   "metadata": {
    "collapsed": false
   },
   "outputs": [],
   "source": [
    "meta_df = meta_df.apply(lambda x: pd.to_numeric(x, errors='ignore'))"
   ]
  },
  {
   "cell_type": "markdown",
   "metadata": {},
   "source": [
    "### Identify \"GOOD\" Data"
   ]
  },
  {
   "cell_type": "code",
   "execution_count": 21,
   "metadata": {
    "collapsed": true
   },
   "outputs": [],
   "source": [
    "#This txt file contains all the good plate-days\n",
    "GOOD_FILE = '/global/homes/p/parkerf/BOSS_Sky/good_plates.txt' "
   ]
  },
  {
   "cell_type": "code",
   "execution_count": 22,
   "metadata": {
    "collapsed": true
   },
   "outputs": [],
   "source": [
    "#Pull info from this file and only use critical info\n",
    "good_data = pd.DataFrame.from_csv(GOOD_FILE, index_col=None, header=0)\n",
    "good_info = good_data[['MJD','QUALITY','PLATE']]"
   ]
  },
  {
   "cell_type": "code",
   "execution_count": 23,
   "metadata": {
    "collapsed": true
   },
   "outputs": [],
   "source": [
    "#Need to calculate the MJD of each observation to compare with the plate-day\n",
    "\n",
    "#location and time\n",
    "APACHE = EarthLocation(lat=(32+4.6/60+49.30/3600), lon=(-105+49./60+13.50/3600.), height=2788)\n",
    "def mjd_time(fits_time):\n",
    "    fits_time = float(fits_time)\n",
    "    tt = Time(fits_time/86400, scale='tai', format='mjd', location=APACHE)\n",
    "    return tt.mjd"
   ]
  },
  {
   "cell_type": "code",
   "execution_count": 42,
   "metadata": {
    "collapsed": false
   },
   "outputs": [],
   "source": [
    "meta_df['TAI_MJD'] = meta_df.TAI_beg.apply(mjd_time)\n",
    "meta_df['MJD'] = np.round(meta_df.TAI_MJD)"
   ]
  },
  {
   "cell_type": "code",
   "execution_count": 43,
   "metadata": {
    "collapsed": false
   },
   "outputs": [],
   "source": [
    "good_obs = pd.merge(meta_df,good_info,on=['MJD','PLATE'],how='left')\n",
    "good_meta_df = good_obs[good_obs.QUALITY == 'good']"
   ]
  },
  {
   "cell_type": "markdown",
   "metadata": {},
   "source": [
    "## Cross Check Data"
   ]
  },
  {
   "cell_type": "code",
   "execution_count": 76,
   "metadata": {
    "collapsed": false
   },
   "outputs": [],
   "source": [
    "pd.set_option('display.max_columns', None)"
   ]
  },
  {
   "cell_type": "code",
   "execution_count": 77,
   "metadata": {
    "collapsed": true
   },
   "outputs": [],
   "source": [
    "#INPUTS:\n",
    "ra = 7.947569\n",
    "dec = 19.996900"
   ]
  },
  {
   "cell_type": "code",
   "execution_count": 79,
   "metadata": {
    "collapsed": false
   },
   "outputs": [],
   "source": [
    "xcheck_data = meta_df[(meta_df.RA == ra) & (meta_df.DEC == dec)]"
   ]
  },
  {
   "cell_type": "code",
   "execution_count": 80,
   "metadata": {
    "collapsed": false
   },
   "outputs": [
    {
     "data": {
      "text/html": [
       "<div>\n",
       "<table border=\"1\" class=\"dataframe\">\n",
       "  <thead>\n",
       "    <tr style=\"text-align: right;\">\n",
       "      <th></th>\n",
       "      <th>PLATE</th>\n",
       "      <th>image</th>\n",
       "      <th>TAI_beg</th>\n",
       "      <th>TAI_end</th>\n",
       "      <th>RA</th>\n",
       "      <th>DEC</th>\n",
       "      <th>Airmass</th>\n",
       "      <th>Alt</th>\n",
       "      <th>Exptime</th>\n",
       "      <th>moon_lat</th>\n",
       "      <th>moon_lon</th>\n",
       "      <th>sun_lat</th>\n",
       "      <th>sun_lon</th>\n",
       "      <th>moon_alt</th>\n",
       "      <th>moon_az</th>\n",
       "      <th>sun_alt</th>\n",
       "      <th>sun_az</th>\n",
       "      <th>days_to_full</th>\n",
       "      <th>ecl_lat</th>\n",
       "      <th>ecl_lon</th>\n",
       "      <th>gal_lat</th>\n",
       "      <th>gal_lon</th>\n",
       "      <th>az</th>\n",
       "      <th>fli</th>\n",
       "      <th>solar_flux</th>\n",
       "      <th>TAI_MJD</th>\n",
       "      <th>MJD</th>\n",
       "    </tr>\n",
       "  </thead>\n",
       "  <tbody>\n",
       "    <tr>\n",
       "      <th>0</th>\n",
       "      <td>6187.0</td>\n",
       "      <td>150697.0</td>\n",
       "      <td>4.859499e+09</td>\n",
       "      <td>4.859500e+09</td>\n",
       "      <td>7.947569</td>\n",
       "      <td>19.9969</td>\n",
       "      <td>1.04618</td>\n",
       "      <td>74.229</td>\n",
       "      <td>900.86</td>\n",
       "      <td>-0.021724</td>\n",
       "      <td>346.079314</td>\n",
       "      <td>-0.012297</td>\n",
       "      <td>280.691831</td>\n",
       "      <td>-66.381447</td>\n",
       "      <td>308.174232</td>\n",
       "      <td>-59.208749</td>\n",
       "      <td>291.117269</td>\n",
       "      <td>15.41596</td>\n",
       "      <td>15.19384</td>\n",
       "      <td>15.333151</td>\n",
       "      <td>-42.63518</td>\n",
       "      <td>116.652896</td>\n",
       "      <td>219.012584</td>\n",
       "      <td>0.29176</td>\n",
       "      <td>145.766667</td>\n",
       "      <td>56244.199687</td>\n",
       "      <td>56244.0</td>\n",
       "    </tr>\n",
       "  </tbody>\n",
       "</table>\n",
       "</div>"
      ],
      "text/plain": [
       "    PLATE     image       TAI_beg       TAI_end        RA      DEC  Airmass  \\\n",
       "0  6187.0  150697.0  4.859499e+09  4.859500e+09  7.947569  19.9969  1.04618   \n",
       "\n",
       "      Alt  Exptime  moon_lat    moon_lon   sun_lat     sun_lon   moon_alt  \\\n",
       "0  74.229   900.86 -0.021724  346.079314 -0.012297  280.691831 -66.381447   \n",
       "\n",
       "      moon_az    sun_alt      sun_az  days_to_full   ecl_lat    ecl_lon  \\\n",
       "0  308.174232 -59.208749  291.117269      15.41596  15.19384  15.333151   \n",
       "\n",
       "    gal_lat     gal_lon          az      fli  solar_flux       TAI_MJD  \\\n",
       "0 -42.63518  116.652896  219.012584  0.29176  145.766667  56244.199687   \n",
       "\n",
       "       MJD  \n",
       "0  56244.0  "
      ]
     },
     "execution_count": 80,
     "metadata": {},
     "output_type": "execute_result"
    }
   ],
   "source": [
    "xcheck_data"
   ]
  },
  {
   "cell_type": "markdown",
   "metadata": {},
   "source": [
    "## Distribution of Data"
   ]
  },
  {
   "cell_type": "code",
   "execution_count": 83,
   "metadata": {
    "collapsed": false
   },
   "outputs": [
    {
     "data": {
      "text/plain": [
       "<matplotlib.text.Text at 0x7f1139fbf588>"
      ]
     },
     "execution_count": 83,
     "metadata": {},
     "output_type": "execute_result"
    },
    {
     "data": {
      "image/png": "[encoded data removed]",
      "text/plain": [
       "<matplotlib.figure.Figure at 0x7f113a325f98>"
      ]
     },
     "metadata": {},
     "output_type": "display_data"
    }
   ],
   "source": [
    "meta_df.MJD.plot.hist(bins=100)\n",
    "good_meta_df.MJD.plot.hist(bins=100)\n",
    "plt.title(\"Number of good observations in a given day\")"
   ]
  },
  {
   "cell_type": "code",
   "execution_count": 84,
   "metadata": {
    "collapsed": false
   },
   "outputs": [
    {
     "data": {
      "text/plain": [
       "<matplotlib.text.Text at 0x7f1139bb5ac8>"
      ]
     },
     "execution_count": 84,
     "metadata": {},
     "output_type": "execute_result"
    },
    {
     "data": {
      "image/png": "[encoded data removed]",
      "text/plain": [
       "<matplotlib.figure.Figure at 0x7f1139f63748>"
      ]
     },
     "metadata": {},
     "output_type": "display_data"
    }
   ],
   "source": [
    "meta_df.Airmass.plot.hist(bins=100)\n",
    "good_meta_df.Airmass.plot.hist(bins=100)\n",
    "plt.title('Airmass')"
   ]
  },
  {
   "cell_type": "code",
   "execution_count": 85,
   "metadata": {
    "collapsed": false
   },
   "outputs": [
    {
     "data": {
      "text/plain": [
       "<matplotlib.text.Text at 0x7f113a2a6080>"
      ]
     },
     "execution_count": 85,
     "metadata": {},
     "output_type": "execute_result"
    },
    {
     "data": {
      "image/png": "[encoded data removed]",
      "text/plain": [
       "<matplotlib.figure.Figure at 0x7f1139b5ad68>"
      ]
     },
     "metadata": {},
     "output_type": "display_data"
    }
   ],
   "source": [
    "meta_df.Alt.plot.hist(bins=100)\n",
    "good_meta_df.Alt.plot.hist(bins=100)\n",
    "plt.title('Altitude')"
   ]
  },
  {
   "cell_type": "code",
   "execution_count": 91,
   "metadata": {
    "collapsed": false
   },
   "outputs": [
    {
     "data": {
      "text/plain": [
       "<matplotlib.text.Text at 0x7f1132b2bfd0>"
      ]
     },
     "execution_count": 91,
     "metadata": {},
     "output_type": "execute_result"
    },
    {
     "data": {
      "image/png": "[encoded data removed]",
      "text/plain": [
       "<matplotlib.figure.Figure at 0x7f1132f5da90>"
      ]
     },
     "metadata": {},
     "output_type": "display_data"
    }
   ],
   "source": [
    "plt.figure(figsize=[15,6])\n",
    "plt.subplot(1,2,1)\n",
    "meta_df.moon_alt.plot.hist(bins=100)\n",
    "good_meta_df.moon_alt.plot.hist(bins=100)\n",
    "plt.title('Moon Altitude')\n",
    "plt.xlabel('Degrees')\n",
    "plt.subplot(1,2,2)\n",
    "meta_df.moon_az.plot.hist(bins=100)\n",
    "good_meta_df.moon_az.plot.hist(bins=100)\n",
    "plt.title('Moon Azimuth')\n",
    "plt.xlabel('Degrees E of N')"
   ]
  },
  {
   "cell_type": "code",
   "execution_count": 92,
   "metadata": {
    "collapsed": false
   },
   "outputs": [
    {
     "data": {
      "text/plain": [
       "<matplotlib.text.Text at 0x7f1132a1e6d8>"
      ]
     },
     "execution_count": 92,
     "metadata": {},
     "output_type": "execute_result"
    },
    {
     "data": {
      "image/png": "[encoded data removed]",
      "text/plain": [
       "<matplotlib.figure.Figure at 0x7f113a1e59b0>"
      ]
     },
     "metadata": {},
     "output_type": "display_data"
    }
   ],
   "source": [
    "meta_df.sun_alt.plot.hist(bins=100)\n",
    "good_meta_df.sun_alt.plot.hist(bins=100)\n",
    "plt.title('Sun Altitude')"
   ]
  },
  {
   "cell_type": "code",
   "execution_count": 93,
   "metadata": {
    "collapsed": false
   },
   "outputs": [
    {
     "data": {
      "text/plain": [
       "<matplotlib.text.Text at 0x7f11320f3f60>"
      ]
     },
     "execution_count": 93,
     "metadata": {},
     "output_type": "execute_result"
    },
    {
     "data": {
      "image/png": "[encoded data removed]",
      "text/plain": [
       "<matplotlib.figure.Figure at 0x7f113275deb8>"
      ]
     },
     "metadata": {},
     "output_type": "display_data"
    }
   ],
   "source": [
    "meta_df.sun_az.plot.hist(bins=100)\n",
    "good_meta_df.sun_az.plot.hist(bins=100)\n",
    "plt.title('Sun Azimuth')"
   ]
  },
  {
   "cell_type": "code",
   "execution_count": 94,
   "metadata": {
    "collapsed": false
   },
   "outputs": [
    {
     "data": {
      "text/plain": [
       "<matplotlib.text.Text at 0x7f1131d1ba58>"
      ]
     },
     "execution_count": 94,
     "metadata": {},
     "output_type": "execute_result"
    },
    {
     "data": {
      "image/png": "[encoded data removed]",
      "text/plain": [
       "<matplotlib.figure.Figure at 0x7f1132115ef0>"
      ]
     },
     "metadata": {},
     "output_type": "display_data"
    }
   ],
   "source": [
    "meta_df.days_to_full.plot.hist(bins=100)\n",
    "good_meta_df.days_to_full.plot.hist(bins=100)\n",
    "plt.title('Days to full moon')"
   ]
  },
  {
   "cell_type": "code",
   "execution_count": 96,
   "metadata": {
    "collapsed": false
   },
   "outputs": [
    {
     "data": {
      "text/plain": [
       "<matplotlib.text.Text at 0x7f1130521518>"
      ]
     },
     "execution_count": 96,
     "metadata": {},
     "output_type": "execute_result"
    },
    {
     "data": {
      "image/png": "[encoded data removed]",
      "text/plain": [
       "<matplotlib.figure.Figure at 0x7f1131941eb8>"
      ]
     },
     "metadata": {},
     "output_type": "display_data"
    }
   ],
   "source": [
    "plt.figure(figsize=[10,10])\n",
    "plt.subplot(3,1,1)\n",
    "meta_df.gal_lat.plot.hist(bins=100)\n",
    "good_meta_df.gal_lat.plot.hist(bins=100)\n",
    "plt.title('Galactic Latitude')\n",
    "plt.subplot(3,1,2)\n",
    "meta_df.ecl_lat.plot.hist(bins=100)\n",
    "good_meta_df.ecl_lat.plot.hist(bins=100)\n",
    "plt.title('Ecliptic Latitude')\n",
    "plt.subplot(3,1,3)\n",
    "meta_df.ecl_lon.plot.hist(bins=100)\n",
    "good_meta_df.ecl_lon.plot.hist(bins=100)\n",
    "plt.title('Ecliptic Longitude')"
   ]
  },
  {
   "cell_type": "code",
   "execution_count": 98,
   "metadata": {
    "collapsed": false
   },
   "outputs": [
    {
     "data": {
      "text/plain": [
       "<matplotlib.text.Text at 0x7f11309f8d68>"
      ]
     },
     "execution_count": 98,
     "metadata": {},
     "output_type": "execute_result"
    },
    {
     "data": {
      "image/png": "[encoded data removed]",
      "text/plain": [
       "<matplotlib.figure.Figure at 0x7f1131f0fda0>"
      ]
     },
     "metadata": {},
     "output_type": "display_data"
    }
   ],
   "source": [
    "meta_df.az.plot.hist(bins=100)\n",
    "good_meta_df.az.plot.hist(bins=100)\n",
    "plt.title('Azimuth')"
   ]
  },
  {
   "cell_type": "code",
   "execution_count": 99,
   "metadata": {
    "collapsed": false
   },
   "outputs": [
    {
     "data": {
      "text/plain": [
       "<matplotlib.text.Text at 0x7f112bbfbc50>"
      ]
     },
     "execution_count": 99,
     "metadata": {},
     "output_type": "execute_result"
    },
    {
     "data": {
      "image/png": "[encoded data removed]",
      "text/plain": [
       "<matplotlib.figure.Figure at 0x7f112bdc6550>"
      ]
     },
     "metadata": {},
     "output_type": "display_data"
    }
   ],
   "source": [
    "meta_df.fli.plot.hist(bins=100)\n",
    "good_meta_df.fli.plot.hist(bins=100)\n",
    "plt.title('Fractional Lunar Illumination')"
   ]
  },
  {
   "cell_type": "code",
   "execution_count": 102,
   "metadata": {
    "collapsed": false
   },
   "outputs": [
    {
     "data": {
      "text/plain": [
       "<matplotlib.text.Text at 0x7f112b8c9cc0>"
      ]
     },
     "execution_count": 102,
     "metadata": {},
     "output_type": "execute_result"
    },
    {
     "data": {
      "image/png": "[encoded data removed]",
      "text/plain": [
       "<matplotlib.figure.Figure at 0x7f1131cca550>"
      ]
     },
     "metadata": {},
     "output_type": "display_data"
    }
   ],
   "source": [
    "plt.plot(meta_df.MJD,meta_df.solar_flux,'ro')\n",
    "plt.plot(good_meta_df.MJD,good_meta_df.solar_flux,'go')\n",
    "plt.title(\"Solar Flux data (avg. per MJD)\")\n",
    "plt.xlabel(\"MJD\")\n",
    "plt.ylabel(\"2800 MHz Solar Flux\")"
   ]
  },
  {
   "cell_type": "code",
   "execution_count": null,
   "metadata": {
    "collapsed": true
   },
   "outputs": [],
   "source": []
  }
 ],
 "metadata": {
  "kernelspec": {
   "display_name": "Python 3",
   "language": "python",
   "name": "python3"
  },
  "language_info": {
   "codemirror_mode": {
    "name": "ipython",
    "version": 3
   },
   "file_extension": ".py",
   "mimetype": "text/x-python",
   "name": "python",
   "nbconvert_exporter": "python",
   "pygments_lexer": "ipython3",
   "version": "3.6.0"
  }
 },
 "nbformat": 4,
 "nbformat_minor": 2
}
